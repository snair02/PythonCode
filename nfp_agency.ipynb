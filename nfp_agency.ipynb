{
 "cells": [
  {
   "cell_type": "markdown",
   "metadata": {},
   "source": [
    "# Data Loading"
   ]
  },
  {
   "cell_type": "code",
   "execution_count": 29,
   "metadata": {},
   "outputs": [],
   "source": [
    "# Loading required packages \n",
    "import pandas as pd\n",
    "import numpy as np\n",
    "import matplotlib.pyplot as plt\n",
    "%matplotlib inline\n",
    "import seaborn as sns\n",
    "from sklearn.linear_model import LogisticRegression\n",
    "from sklearn import metrics\n"
   ]
  },
  {
   "cell_type": "code",
   "execution_count": 30,
   "metadata": {},
   "outputs": [
    {
     "name": "stdout",
     "output_type": "stream",
     "text": [
      "<class 'pandas.core.frame.DataFrame'>\n",
      "RangeIndex: 5589 entries, 0 to 5588\n",
      "Data columns (total 9 columns):\n",
      "nurse_id              5589 non-null int64\n",
      "month                 5589 non-null int64\n",
      "site_id               5589 non-null int64\n",
      "first_visit_dt        5589 non-null object\n",
      "fte                   5582 non-null float64\n",
      "term_flag             685 non-null float64\n",
      "nurse_primary_role    5589 non-null object\n",
      "numcases_actual       5543 non-null float64\n",
      "numcases_assigned     5477 non-null float64\n",
      "dtypes: float64(4), int64(3), object(2)\n",
      "memory usage: 393.1+ KB\n",
      "<class 'pandas.core.frame.DataFrame'>\n",
      "RangeIndex: 198 entries, 0 to 197\n",
      "Data columns (total 12 columns):\n",
      "state                    198 non-null object\n",
      "site_id                  198 non-null int64\n",
      "referral_count           196 non-null float64\n",
      "conversion_rate          196 non-null float64\n",
      "percent_retained_preg    198 non-null float64\n",
      "percent_retained_1yr     193 non-null float64\n",
      "percent_retained_2yr     189 non-null float64\n",
      "first_hv                 198 non-null object\n",
      "pct_urban                197 non-null float64\n",
      "num_clients              198 non-null int64\n",
      "nc_score                 185 non-null object\n",
      "s_meetings               195 non-null float64\n",
      "dtypes: float64(7), int64(2), object(3)\n",
      "memory usage: 18.6+ KB\n"
     ]
    }
   ],
   "source": [
    "# Loading data from NFP_AGENCY_TRAIN and NFP_NURSE_INFO_TRAIN sheets\n",
    "agency = pd.read_csv(\"NFP_AGENCY_TEST.csv\")\n",
    "nurse=pd.read_csv(\"NFP_NURSE_INFO_TEST.csv\")\n",
    "nurse.info()\n",
    "agency.info()"
   ]
  },
  {
   "cell_type": "markdown",
   "metadata": {},
   "source": [
    "# L-Score calculation\n",
    "\n",
    "For a nurse, L-Score = Actual cases - Assigned cases"
   ]
  },
  {
   "cell_type": "code",
   "execution_count": 31,
   "metadata": {},
   "outputs": [
    {
     "name": "stdout",
     "output_type": "stream",
     "text": [
      "<class 'pandas.core.frame.DataFrame'>\n",
      "RangeIndex: 5589 entries, 0 to 5588\n",
      "Data columns (total 3 columns):\n",
      "site_id              5589 non-null int64\n",
      "numcases_actual      5543 non-null float64\n",
      "numcases_assigned    5477 non-null float64\n",
      "dtypes: float64(2), int64(1)\n",
      "memory usage: 131.1 KB\n"
     ]
    },
    {
     "data": {
      "text/plain": [
       "count    5431.000000\n",
       "mean       -0.014546\n",
       "std         0.766212\n",
       "min       -10.000000\n",
       "25%         0.000000\n",
       "50%         0.000000\n",
       "75%         0.000000\n",
       "max        10.000000\n",
       "Name: l_score, dtype: float64"
      ]
     },
     "execution_count": 31,
     "metadata": {},
     "output_type": "execute_result"
    }
   ],
   "source": [
    "# Subsetting only required fields for calculation\n",
    "nurse_ls = nurse[['site_id','numcases_actual','numcases_assigned']]\n",
    "nurse_ls.dropna()\n",
    "nurse_ls.info()\n",
    "\n",
    "# Adding column to calculate L-Scores\n",
    "nurse_ls=nurse.copy()\n",
    "nurse_ls['l_score'] = nurse_ls['numcases_actual'] - nurse_ls['numcases_assigned']\n",
    "nurse_ls['l_score'].describe()"
   ]
  },
  {
   "cell_type": "code",
   "execution_count": 32,
   "metadata": {},
   "outputs": [
    {
     "data": {
      "text/html": [
       "<div>\n",
       "<style scoped>\n",
       "    .dataframe tbody tr th:only-of-type {\n",
       "        vertical-align: middle;\n",
       "    }\n",
       "\n",
       "    .dataframe tbody tr th {\n",
       "        vertical-align: top;\n",
       "    }\n",
       "\n",
       "    .dataframe thead th {\n",
       "        text-align: right;\n",
       "    }\n",
       "</style>\n",
       "<table border=\"1\" class=\"dataframe\">\n",
       "  <thead>\n",
       "    <tr style=\"text-align: right;\">\n",
       "      <th></th>\n",
       "      <th>l_score</th>\n",
       "    </tr>\n",
       "    <tr>\n",
       "      <th>site_id</th>\n",
       "      <th></th>\n",
       "    </tr>\n",
       "  </thead>\n",
       "  <tbody>\n",
       "    <tr>\n",
       "      <th>178</th>\n",
       "      <td>-15.0</td>\n",
       "    </tr>\n",
       "    <tr>\n",
       "      <th>349</th>\n",
       "      <td>-11.0</td>\n",
       "    </tr>\n",
       "    <tr>\n",
       "      <th>141</th>\n",
       "      <td>-10.0</td>\n",
       "    </tr>\n",
       "    <tr>\n",
       "      <th>217</th>\n",
       "      <td>-9.0</td>\n",
       "    </tr>\n",
       "    <tr>\n",
       "      <th>187</th>\n",
       "      <td>-9.0</td>\n",
       "    </tr>\n",
       "  </tbody>\n",
       "</table>\n",
       "</div>"
      ],
      "text/plain": [
       "         l_score\n",
       "site_id         \n",
       "178        -15.0\n",
       "349        -11.0\n",
       "141        -10.0\n",
       "217         -9.0\n",
       "187         -9.0"
      ]
     },
     "execution_count": 32,
     "metadata": {},
     "output_type": "execute_result"
    }
   ],
   "source": [
    "# Grouping L-Scores by site and storing into a Dataframe.\n",
    "l_scores = nurse_ls.groupby('site_id')['l_score'].sum().sort_values()\n",
    "l_scores=pd.DataFrame(l_scores, columns = ['l_score'])\n",
    "l_scores.head(5)"
   ]
  },
  {
   "cell_type": "code",
   "execution_count": 33,
   "metadata": {},
   "outputs": [
    {
     "data": {
      "text/html": [
       "<div>\n",
       "<style scoped>\n",
       "    .dataframe tbody tr th:only-of-type {\n",
       "        vertical-align: middle;\n",
       "    }\n",
       "\n",
       "    .dataframe tbody tr th {\n",
       "        vertical-align: top;\n",
       "    }\n",
       "\n",
       "    .dataframe thead th {\n",
       "        text-align: right;\n",
       "    }\n",
       "</style>\n",
       "<table border=\"1\" class=\"dataframe\">\n",
       "  <thead>\n",
       "    <tr style=\"text-align: right;\">\n",
       "      <th></th>\n",
       "      <th>site_id</th>\n",
       "      <th>referral_count</th>\n",
       "      <th>conversion_rate</th>\n",
       "      <th>percent_retained_preg</th>\n",
       "      <th>percent_retained_1yr</th>\n",
       "      <th>percent_retained_2yr</th>\n",
       "      <th>pct_urban</th>\n",
       "      <th>num_clients</th>\n",
       "      <th>s_meetings</th>\n",
       "      <th>l_score</th>\n",
       "    </tr>\n",
       "  </thead>\n",
       "  <tbody>\n",
       "    <tr>\n",
       "      <th>count</th>\n",
       "      <td>198.000000</td>\n",
       "      <td>196.000000</td>\n",
       "      <td>196.000000</td>\n",
       "      <td>198.000000</td>\n",
       "      <td>193.000000</td>\n",
       "      <td>189.000000</td>\n",
       "      <td>197.000000</td>\n",
       "      <td>198.000000</td>\n",
       "      <td>195.000000</td>\n",
       "      <td>198.000000</td>\n",
       "    </tr>\n",
       "    <tr>\n",
       "      <th>mean</th>\n",
       "      <td>232.247475</td>\n",
       "      <td>283.035714</td>\n",
       "      <td>39.455816</td>\n",
       "      <td>84.921061</td>\n",
       "      <td>49.482176</td>\n",
       "      <td>30.090370</td>\n",
       "      <td>72.971523</td>\n",
       "      <td>998.287879</td>\n",
       "      <td>227.020513</td>\n",
       "      <td>-0.398990</td>\n",
       "    </tr>\n",
       "    <tr>\n",
       "      <th>std</th>\n",
       "      <td>92.006204</td>\n",
       "      <td>285.918302</td>\n",
       "      <td>16.553566</td>\n",
       "      <td>9.728814</td>\n",
       "      <td>13.787533</td>\n",
       "      <td>14.814805</td>\n",
       "      <td>29.171067</td>\n",
       "      <td>917.805368</td>\n",
       "      <td>168.015861</td>\n",
       "      <td>5.660209</td>\n",
       "    </tr>\n",
       "    <tr>\n",
       "      <th>min</th>\n",
       "      <td>86.000000</td>\n",
       "      <td>19.000000</td>\n",
       "      <td>6.980000</td>\n",
       "      <td>0.000000</td>\n",
       "      <td>0.000000</td>\n",
       "      <td>0.000000</td>\n",
       "      <td>0.000000</td>\n",
       "      <td>87.000000</td>\n",
       "      <td>1.000000</td>\n",
       "      <td>-15.000000</td>\n",
       "    </tr>\n",
       "    <tr>\n",
       "      <th>25%</th>\n",
       "      <td>153.250000</td>\n",
       "      <td>120.000000</td>\n",
       "      <td>28.115000</td>\n",
       "      <td>81.107500</td>\n",
       "      <td>42.110000</td>\n",
       "      <td>19.720000</td>\n",
       "      <td>53.850000</td>\n",
       "      <td>384.750000</td>\n",
       "      <td>126.000000</td>\n",
       "      <td>0.000000</td>\n",
       "    </tr>\n",
       "    <tr>\n",
       "      <th>50%</th>\n",
       "      <td>218.500000</td>\n",
       "      <td>198.000000</td>\n",
       "      <td>39.135000</td>\n",
       "      <td>85.475000</td>\n",
       "      <td>50.600000</td>\n",
       "      <td>29.850000</td>\n",
       "      <td>86.360000</td>\n",
       "      <td>807.000000</td>\n",
       "      <td>189.000000</td>\n",
       "      <td>0.000000</td>\n",
       "    </tr>\n",
       "    <tr>\n",
       "      <th>75%</th>\n",
       "      <td>314.750000</td>\n",
       "      <td>328.500000</td>\n",
       "      <td>48.355000</td>\n",
       "      <td>90.910000</td>\n",
       "      <td>57.320000</td>\n",
       "      <td>38.360000</td>\n",
       "      <td>96.700000</td>\n",
       "      <td>1188.750000</td>\n",
       "      <td>282.500000</td>\n",
       "      <td>0.000000</td>\n",
       "    </tr>\n",
       "    <tr>\n",
       "      <th>max</th>\n",
       "      <td>414.000000</td>\n",
       "      <td>1949.000000</td>\n",
       "      <td>100.000000</td>\n",
       "      <td>100.000000</td>\n",
       "      <td>94.440000</td>\n",
       "      <td>100.000000</td>\n",
       "      <td>100.000000</td>\n",
       "      <td>5908.000000</td>\n",
       "      <td>1085.000000</td>\n",
       "      <td>70.000000</td>\n",
       "    </tr>\n",
       "  </tbody>\n",
       "</table>\n",
       "</div>"
      ],
      "text/plain": [
       "          site_id  referral_count  conversion_rate  percent_retained_preg  \\\n",
       "count  198.000000      196.000000       196.000000             198.000000   \n",
       "mean   232.247475      283.035714        39.455816              84.921061   \n",
       "std     92.006204      285.918302        16.553566               9.728814   \n",
       "min     86.000000       19.000000         6.980000               0.000000   \n",
       "25%    153.250000      120.000000        28.115000              81.107500   \n",
       "50%    218.500000      198.000000        39.135000              85.475000   \n",
       "75%    314.750000      328.500000        48.355000              90.910000   \n",
       "max    414.000000     1949.000000       100.000000             100.000000   \n",
       "\n",
       "       percent_retained_1yr  percent_retained_2yr   pct_urban  num_clients  \\\n",
       "count            193.000000            189.000000  197.000000   198.000000   \n",
       "mean              49.482176             30.090370   72.971523   998.287879   \n",
       "std               13.787533             14.814805   29.171067   917.805368   \n",
       "min                0.000000              0.000000    0.000000    87.000000   \n",
       "25%               42.110000             19.720000   53.850000   384.750000   \n",
       "50%               50.600000             29.850000   86.360000   807.000000   \n",
       "75%               57.320000             38.360000   96.700000  1188.750000   \n",
       "max               94.440000            100.000000  100.000000  5908.000000   \n",
       "\n",
       "        s_meetings     l_score  \n",
       "count   195.000000  198.000000  \n",
       "mean    227.020513   -0.398990  \n",
       "std     168.015861    5.660209  \n",
       "min       1.000000  -15.000000  \n",
       "25%     126.000000    0.000000  \n",
       "50%     189.000000    0.000000  \n",
       "75%     282.500000    0.000000  \n",
       "max    1085.000000   70.000000  "
      ]
     },
     "execution_count": 33,
     "metadata": {},
     "output_type": "execute_result"
    }
   ],
   "source": [
    "# Merging L-Scores with agency dataframe.\n",
    "agency=pd.merge(agency,l_scores, on='site_id')\n",
    "\n",
    "agency.describe()"
   ]
  },
  {
   "cell_type": "markdown",
   "metadata": {},
   "source": [
    "# Analysis of features"
   ]
  },
  {
   "cell_type": "markdown",
   "metadata": {},
   "source": [
    "On plotting average number of clients (num_clients) vs L-Scores, it is observed that for L-Scores close to the ideal score of 0, the average number of clients is low.\n",
    "\n",
    "The urbanicity % (pct_urban) is found to be mostly high for ideal score. L-Score = 65.16% of agencies have L-Score = 0 and urbanicity percentage>60%."
   ]
  },
  {
   "cell_type": "code",
   "execution_count": 34,
   "metadata": {},
   "outputs": [
    {
     "data": {
      "text/plain": [
       "0.7013888888888888"
      ]
     },
     "execution_count": 34,
     "metadata": {},
     "output_type": "execute_result"
    },
    {
     "data": {
      "image/png": "[encoded data removed]",
      "text/plain": [
       "<Figure size 432x288 with 1 Axes>"
      ]
     },
     "metadata": {
      "needs_background": "light"
     },
     "output_type": "display_data"
    },
    {
     "data": {
      "image/png": "[encoded data removed]",
      "text/plain": [
       "<Figure size 432x288 with 1 Axes>"
      ]
     },
     "metadata": {
      "needs_background": "light"
     },
     "output_type": "display_data"
    }
   ],
   "source": [
    "# Plotting Average No. of clients vs L-Scores\n",
    "agency.groupby('l_score')['num_clients'].mean().plot(title='Average no. of clients vs L-Scores', x='L-Score', color='green')\n",
    "agency.plot('l_score', 'pct_urban', kind='scatter')\n",
    "\n",
    "# Plotting Urbanicity % vs L-Scores\n",
    "agency.site_id[(agency.pct_urban>60) & (agency.l_score==0)].count()/agency.site_id[agency.l_score==0].count()"
   ]
  },
  {
   "cell_type": "markdown",
   "metadata": {},
   "source": [
    "# Logistic Regression\n",
    "\n",
    "We will now proceed to implement logistic regression using pct_urban and num_clients as features. Since most values for L-score are either 0 or negative, we will consider L-Score as outcome variable with binary output L-Score between 0 and -5 (Output 1) and L-Score less than -5  (Output 0). "
   ]
  },
  {
   "cell_type": "code",
   "execution_count": 27,
   "metadata": {},
   "outputs": [
    {
     "name": "stderr",
     "output_type": "stream",
     "text": [
      "/Users/snehanair/anaconda3/lib/python3.7/site-packages/pandas/core/indexing.py:543: SettingWithCopyWarning: \n",
      "A value is trying to be set on a copy of a slice from a DataFrame.\n",
      "Try using .loc[row_indexer,col_indexer] = value instead\n",
      "\n",
      "See the caveats in the documentation: http://pandas.pydata.org/pandas-docs/stable/indexing.html#indexing-view-versus-copy\n",
      "  self.obj[item] = s\n"
     ]
    }
   ],
   "source": [
    "# Retaining only negative and zero L-Scores\n",
    "agency_n = agency[agency.l_score<=0]\n",
    "\n",
    "# Mapping to target values 0 and 1\n",
    "agency_n.loc[agency_n['l_score'] >= -5, 'l_score'] = 0\n",
    "agency_n.loc[agency_n['l_score'] < -5, 'l_score'] = 1"
   ]
  },
  {
   "cell_type": "code",
   "execution_count": 28,
   "metadata": {},
   "outputs": [
    {
     "data": {
      "text/plain": [
       "(189, 3)"
      ]
     },
     "execution_count": 28,
     "metadata": {},
     "output_type": "execute_result"
    }
   ],
   "source": [
    "# Split dataset in features and target variable\n",
    "agency_n=agency_n[['pct_urban','num_clients','l_score']]\n",
    "agency_n=agency_n.dropna()\n",
    "X = agency_n[['pct_urban','num_clients']] # Features\n",
    "X = X.reset_index()\n",
    "y = agency_n.l_score # Target variable\n",
    "agency_n.shape\n",
    "\n",
    "# We have 207 sites after dropping records with NaN values."
   ]
  },
  {
   "cell_type": "code",
   "execution_count": 5,
   "metadata": {},
   "outputs": [
    {
     "ename": "NameError",
     "evalue": "name 'X' is not defined",
     "output_type": "error",
     "traceback": [
      "\u001b[0;31m---------------------------------------------------------------------------\u001b[0m",
      "\u001b[0;31mNameError\u001b[0m                                 Traceback (most recent call last)",
      "\u001b[0;32m<ipython-input-5-98db5c12063e>\u001b[0m in \u001b[0;36m<module>\u001b[0;34m\u001b[0m\n\u001b[1;32m      1\u001b[0m \u001b[0;31m# Feature scaling for pct_urban and num_clients\u001b[0m\u001b[0;34m\u001b[0m\u001b[0;34m\u001b[0m\u001b[0;34m\u001b[0m\u001b[0m\n\u001b[1;32m      2\u001b[0m \u001b[0;32mfrom\u001b[0m \u001b[0msklearn\u001b[0m \u001b[0;32mimport\u001b[0m \u001b[0mpreprocessing\u001b[0m\u001b[0;34m\u001b[0m\u001b[0;34m\u001b[0m\u001b[0m\n\u001b[0;32m----> 3\u001b[0;31m \u001b[0mstd_scale\u001b[0m \u001b[0;34m=\u001b[0m \u001b[0mpreprocessing\u001b[0m\u001b[0;34m.\u001b[0m\u001b[0mStandardScaler\u001b[0m\u001b[0;34m(\u001b[0m\u001b[0;34m)\u001b[0m\u001b[0;34m.\u001b[0m\u001b[0mfit\u001b[0m\u001b[0;34m(\u001b[0m\u001b[0mX\u001b[0m\u001b[0;34m[\u001b[0m\u001b[0;34m[\u001b[0m\u001b[0;34m'pct_urban'\u001b[0m\u001b[0;34m,\u001b[0m \u001b[0;34m'num_clients'\u001b[0m\u001b[0;34m]\u001b[0m\u001b[0;34m]\u001b[0m\u001b[0;34m)\u001b[0m\u001b[0;34m\u001b[0m\u001b[0;34m\u001b[0m\u001b[0m\n\u001b[0m\u001b[1;32m      4\u001b[0m \u001b[0mX\u001b[0m \u001b[0;34m=\u001b[0m \u001b[0mstd_scale\u001b[0m\u001b[0;34m.\u001b[0m\u001b[0mtransform\u001b[0m\u001b[0;34m(\u001b[0m\u001b[0mX\u001b[0m\u001b[0;34m[\u001b[0m\u001b[0;34m[\u001b[0m\u001b[0;34m'pct_urban'\u001b[0m\u001b[0;34m,\u001b[0m \u001b[0;34m'num_clients'\u001b[0m\u001b[0;34m]\u001b[0m\u001b[0;34m]\u001b[0m\u001b[0;34m)\u001b[0m\u001b[0;34m\u001b[0m\u001b[0;34m\u001b[0m\u001b[0m\n",
      "\u001b[0;31mNameError\u001b[0m: name 'X' is not defined"
     ]
    }
   ],
   "source": [
    "# Feature scaling for pct_urban and num_clients\n",
    "from sklearn import preprocessing\n",
    "std_scale = preprocessing.StandardScaler().fit(X[['pct_urban', 'num_clients']])\n",
    "X = std_scale.transform(X[['pct_urban', 'num_clients']])"
   ]
  },
  {
   "cell_type": "code",
   "execution_count": 6,
   "metadata": {},
   "outputs": [
    {
     "ename": "NameError",
     "evalue": "name 'X' is not defined",
     "output_type": "error",
     "traceback": [
      "\u001b[0;31m---------------------------------------------------------------------------\u001b[0m",
      "\u001b[0;31mNameError\u001b[0m                                 Traceback (most recent call last)",
      "\u001b[0;32m<ipython-input-6-9e90874eeff9>\u001b[0m in \u001b[0;36m<module>\u001b[0;34m\u001b[0m\n\u001b[1;32m      1\u001b[0m \u001b[0;31m# Split X and y into training and testing sets in 0.75:0.25 ratio.\u001b[0m\u001b[0;34m\u001b[0m\u001b[0;34m\u001b[0m\u001b[0;34m\u001b[0m\u001b[0m\n\u001b[1;32m      2\u001b[0m \u001b[0;32mfrom\u001b[0m \u001b[0msklearn\u001b[0m\u001b[0;34m.\u001b[0m\u001b[0mmodel_selection\u001b[0m \u001b[0;32mimport\u001b[0m \u001b[0mtrain_test_split\u001b[0m\u001b[0;34m\u001b[0m\u001b[0;34m\u001b[0m\u001b[0m\n\u001b[0;32m----> 3\u001b[0;31m \u001b[0mX_train\u001b[0m\u001b[0;34m,\u001b[0m\u001b[0mX_test\u001b[0m\u001b[0;34m,\u001b[0m\u001b[0my_train\u001b[0m\u001b[0;34m,\u001b[0m\u001b[0my_test\u001b[0m\u001b[0;34m=\u001b[0m\u001b[0mtrain_test_split\u001b[0m\u001b[0;34m(\u001b[0m\u001b[0mX\u001b[0m\u001b[0;34m,\u001b[0m\u001b[0my\u001b[0m\u001b[0;34m,\u001b[0m\u001b[0mtest_size\u001b[0m\u001b[0;34m=\u001b[0m\u001b[0;36m0.25\u001b[0m\u001b[0;34m,\u001b[0m\u001b[0mrandom_state\u001b[0m\u001b[0;34m=\u001b[0m\u001b[0;36m0\u001b[0m\u001b[0;34m)\u001b[0m\u001b[0;34m\u001b[0m\u001b[0;34m\u001b[0m\u001b[0m\n\u001b[0m\u001b[1;32m      4\u001b[0m \u001b[0mX_train\u001b[0m\u001b[0;34m.\u001b[0m\u001b[0mshape\u001b[0m\u001b[0;34m\u001b[0m\u001b[0;34m\u001b[0m\u001b[0m\n\u001b[1;32m      5\u001b[0m \u001b[0;34m\u001b[0m\u001b[0m\n",
      "\u001b[0;31mNameError\u001b[0m: name 'X' is not defined"
     ]
    }
   ],
   "source": [
    "# Split X and y into training and testing sets in 0.75:0.25 ratio.\n",
    "from sklearn.model_selection import train_test_split\n",
    "X_train,X_test,y_train,y_test=train_test_split(X,y,test_size=0.25,random_state=0)\n",
    "X_train.shape\n",
    "\n",
    "# 155 values in the training set, remaining in test set."
   ]
  },
  {
   "cell_type": "code",
   "execution_count": 7,
   "metadata": {},
   "outputs": [
    {
     "ename": "NameError",
     "evalue": "name 'X_train' is not defined",
     "output_type": "error",
     "traceback": [
      "\u001b[0;31m---------------------------------------------------------------------------\u001b[0m",
      "\u001b[0;31mNameError\u001b[0m                                 Traceback (most recent call last)",
      "\u001b[0;32m<ipython-input-7-e80f1fed3603>\u001b[0m in \u001b[0;36m<module>\u001b[0;34m\u001b[0m\n\u001b[1;32m      3\u001b[0m \u001b[0;34m\u001b[0m\u001b[0m\n\u001b[1;32m      4\u001b[0m \u001b[0;31m# Fitting the model with data\u001b[0m\u001b[0;34m\u001b[0m\u001b[0;34m\u001b[0m\u001b[0;34m\u001b[0m\u001b[0m\n\u001b[0;32m----> 5\u001b[0;31m \u001b[0mlogreg\u001b[0m\u001b[0;34m.\u001b[0m\u001b[0mfit\u001b[0m\u001b[0;34m(\u001b[0m\u001b[0mX_train\u001b[0m\u001b[0;34m,\u001b[0m\u001b[0my_train\u001b[0m\u001b[0;34m)\u001b[0m\u001b[0;34m\u001b[0m\u001b[0;34m\u001b[0m\u001b[0m\n\u001b[0m\u001b[1;32m      6\u001b[0m \u001b[0;34m\u001b[0m\u001b[0m\n\u001b[1;32m      7\u001b[0m \u001b[0;31m# Predicting values on test data\u001b[0m\u001b[0;34m\u001b[0m\u001b[0;34m\u001b[0m\u001b[0;34m\u001b[0m\u001b[0m\n",
      "\u001b[0;31mNameError\u001b[0m: name 'X_train' is not defined"
     ]
    }
   ],
   "source": [
    "# Creating the logistic regression model\n",
    "logreg = LogisticRegression()\n",
    "\n",
    "# Fitting the model with data\n",
    "logreg.fit(X_train,y_train)\n",
    "\n",
    "# Predicting values on test data\n",
    "y_pred=logreg.predict(X_test)\n"
   ]
  },
  {
   "cell_type": "code",
   "execution_count": 99,
   "metadata": {},
   "outputs": [
    {
     "data": {
      "text/plain": [
       "array([[40,  3],\n",
       "       [ 8,  1]], dtype=int64)"
      ]
     },
     "execution_count": 99,
     "metadata": {},
     "output_type": "execute_result"
    }
   ],
   "source": [
    "# Plotting the confusion matrix.\n",
    "cnf_matrix = metrics.confusion_matrix(y_test, y_pred)\n",
    "cnf_matrix"
   ]
  },
  {
   "cell_type": "code",
   "execution_count": 100,
   "metadata": {},
   "outputs": [
    {
     "data": {
      "text/plain": [
       "Text(0.5,257.44,'Predicted label')"
      ]
     },
     "execution_count": 100,
     "metadata": {},
     "output_type": "execute_result"
    },
    {
     "data": {
      "image/png": "[encoded data removed]",
      "text/plain": [
       "<Figure size 432x288 with 2 Axes>"
      ]
     },
     "metadata": {
      "needs_background": "light"
     },
     "output_type": "display_data"
    }
   ],
   "source": [
    "class_names=[0,1] # name  of classes\n",
    "fig, ax = plt.subplots()\n",
    "tick_marks = np.arange(len(class_names))\n",
    "plt.xticks(tick_marks, class_names)\n",
    "plt.yticks(tick_marks, class_names)\n",
    "\n",
    "# Plotting of heatmap\n",
    "sns.heatmap(pd.DataFrame(cnf_matrix), annot=True, cmap=\"YlGnBu\" ,fmt='g')\n",
    "ax.xaxis.set_label_position(\"top\")\n",
    "plt.tight_layout()\n",
    "plt.title('Confusion matrix', y=1.1)\n",
    "plt.ylabel('Actual label')\n",
    "plt.xlabel('Predicted label')"
   ]
  },
  {
   "cell_type": "code",
   "execution_count": 101,
   "metadata": {},
   "outputs": [
    {
     "name": "stdout",
     "output_type": "stream",
     "text": [
      "Accuracy: 0.7884615384615384\n"
     ]
    }
   ],
   "source": [
    "# Accuracy of model\n",
    "print(\"Accuracy:\",metrics.accuracy_score(y_test, y_pred))"
   ]
  }
 ],
 "metadata": {
  "kernelspec": {
   "display_name": "Python 3",
   "language": "python",
   "name": "python3"
  },
  "language_info": {
   "codemirror_mode": {
    "name": "ipython",
    "version": 3
   },
   "file_extension": ".py",
   "mimetype": "text/x-python",
   "name": "python",
   "nbconvert_exporter": "python",
   "pygments_lexer": "ipython3",
   "version": "3.7.1"
  }
 },
 "nbformat": 4,
 "nbformat_minor": 2
}
