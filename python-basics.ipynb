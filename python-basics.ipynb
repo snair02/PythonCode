{
 "cells": [
  {
   "cell_type": "markdown",
   "metadata": {},
   "source": [
    "# a2 - Python Basics\n",
    "Fill in the below code cells as specified. Note that cells may utilize variables and functions defined in previous cells; we should be able to use the `Kernal > Restart & Clear All` menu item followed by `Cell > Run All` to execute your entire notebook and see the correct output."
   ]
  },
  {
   "cell_type": "markdown",
   "metadata": {},
   "source": [
    "## Part 1. Introductions"
   ]
  },
  {
   "cell_type": "markdown",
   "metadata": {},
   "source": [
    "Create a variable **`my_name`** that stores your name (a string)."
   ]
  },
  {
   "cell_type": "code",
   "execution_count": 1,
   "metadata": {},
   "outputs": [],
   "source": [
    "my_name = \"Sneha Nair\""
   ]
  },
  {
   "cell_type": "markdown",
   "metadata": {},
   "source": [
    "Create a variable **`my_age`** that stores your age (a number)."
   ]
  },
  {
   "cell_type": "code",
   "execution_count": 2,
   "metadata": {},
   "outputs": [],
   "source": [
    "my_age = 24"
   ]
  },
  {
   "cell_type": "markdown",
   "metadata": {},
   "source": [
    "Define a function **`make_introduction()`** that takes in two arguments: a name and an age. The function should _return_ a string of the format `\"Hello, my name is {NAME} and I'm {AGE} years old.\"` (replacing `{NAME}` and `{AGE}` with the arguments).\n",
    "- Note that you can turn a number into a string using the built-in `str()` function. "
   ]
  },
  {
   "cell_type": "code",
   "execution_count": 3,
   "metadata": {},
   "outputs": [],
   "source": [
    "def make_introduction(name, age):\n",
    "    \"\"\"Method for introduction of a person, returns string and takes name and age as arguments\n",
    "    \"\"\"\n",
    "    return \"Hello, my name is \"+ name+\" and I'm \"+str(age)+\" years old.\""
   ]
  },
  {
   "cell_type": "markdown",
   "metadata": {},
   "source": [
    "Create a variable **`my_intro`** by passing your variables `my_name` and `my_age` into your `make_introduction()` function. Print the variable after you create it."
   ]
  },
  {
   "cell_type": "code",
   "execution_count": 4,
   "metadata": {},
   "outputs": [
    {
     "name": "stdout",
     "output_type": "stream",
     "text": [
      "Hello, my name is Sneha Nair and I'm 24 years old.\n"
     ]
    }
   ],
   "source": [
    "#Call to make_introduction\n",
    "my_intro = make_introduction(my_name,my_age)\n",
    "print(my_intro)"
   ]
  },
  {
   "cell_type": "markdown",
   "metadata": {},
   "source": [
    "Create a variable **`loud_intro`**, which is your `my_intro` variable with all of the letters capitalized (use the `upper()` string method). Print the variable after you create it."
   ]
  },
  {
   "cell_type": "code",
   "execution_count": 5,
   "metadata": {},
   "outputs": [
    {
     "name": "stdout",
     "output_type": "stream",
     "text": [
      "HELLO, MY NAME IS SNEHA NAIR AND I'M 24 YEARS OLD.\n"
     ]
    }
   ],
   "source": [
    "#Converting introduction to upper case\n",
    "loud_intro = my_intro.upper()\n",
    "print (loud_intro)"
   ]
  },
  {
   "cell_type": "markdown",
   "metadata": {},
   "source": [
    "Create a variable **`casual_intro`** by using the `replace()` string function to replace (substitute) \"Hello, my name is\", with \"Hey, I'm\" in your `my_intro` variable. You may need to look up the arguments for this function! Print the variable after you create it."
   ]
  },
  {
   "cell_type": "code",
   "execution_count": 6,
   "metadata": {},
   "outputs": [
    {
     "name": "stdout",
     "output_type": "stream",
     "text": [
      "Hey, I'm Sneha Nair and I'm 24 years old.\n"
     ]
    }
   ],
   "source": [
    "#Modify content of introduction\n",
    "casual_intro = my_intro.replace(\"Hello, my name is\",\"Hey, I'm\")\n",
    "print(casual_intro)"
   ]
  },
  {
   "cell_type": "markdown",
   "metadata": {},
   "source": [
    "Create a variable `intro_e_count` that stores the number of times the letter `'e'` (lower-case only) appears in the `my_intro` variable. Find a [string method](https://docs.python.org/3.6/library/stdtypes.html#string-methods) that will \"count\" the occurences. Print the variable after you create it."
   ]
  },
  {
   "cell_type": "code",
   "execution_count": 7,
   "metadata": {},
   "outputs": [
    {
     "name": "stdout",
     "output_type": "stream",
     "text": [
      "4\n"
     ]
    }
   ],
   "source": [
    "#Count occcurence of letter 'e'\n",
    "intro_e_count = my_intro.count('e')\n",
    "print(intro_e_count)"
   ]
  },
  {
   "cell_type": "markdown",
   "metadata": {},
   "source": [
    "## Part 2. Money"
   ]
  },
  {
   "cell_type": "markdown",
   "metadata": {},
   "source": [
    "Define a function **`compound_interest()`** that takes three arguments: an initial bank balance (principle, in dollars), an annual interest rate (as a decimal, so `.05` is 5%), and a number of years. The function should calculate the [continuous compound interest](https://en.wikipedia.org/wiki/Compound_interest#Continuous_compounding) and _return_ the resulting total balance after that many number of years.\n",
    "- See [here](http://www.mathwarehouse.com/calculators/continuous-compound-interest-calculator.php) for an example of the formula and a calculator you can use to check your work.\n",
    "- Be sure and call your function with some testing numbers: \\\\$1000 at 6% for 5 years should lead to a balance of \\\\$1349.86.\n",
    "- You will need to import the `math` module for mathematical functions. Don't worry about understanding the math! The skill here is just to find and use the appropriate functions."
   ]
  },
  {
   "cell_type": "code",
   "execution_count": 8,
   "metadata": {},
   "outputs": [],
   "source": [
    "import math\n",
    "def compound_interest(principle, interest_rate, duration):\n",
    "    \"\"\"Method that takes three arguments: an initial bank balance (principle, in dollars),\n",
    "    an annual interest rate (as a decimal, so .05 is 5%), and a number of years and returns\n",
    "    the resulting total balance after that many number of years.\n",
    "    \"\"\"\n",
    "    continuous_compound_interest = principle* math.exp(interest_rate*0.01*duration)\n",
    "    return continuous_compound_interest\n"
   ]
  },
  {
   "cell_type": "markdown",
   "metadata": {},
   "source": [
    "Define a function **`print_earnings()`** that takes three numbers as arguments: an initial principle, an annual interest rate, and a number of years. This function should _print out_ the earnings over this period in the following format:\n",
    "\n",
    "```\n",
    "Initial principle: $1000\n",
    "Annual interest rate: %6.0\n",
    "Interest earned in 5 years: $349.86\n",
    "Total value after 5 years: $1349.86\n",
    "```\n",
    "\n",
    "Note that interest rate should be printed as a percentage, monetary values should have a leading `$`, and you should round monetary values to the nearest penny. Don't worry about extra or missing trailing 0s (in values like `%6.0` or `$101.5`)."
   ]
  },
  {
   "cell_type": "code",
   "execution_count": 9,
   "metadata": {},
   "outputs": [],
   "source": [
    "#Method to print earnings\n",
    "def print_earnings(principle, interest_rate, duration):\n",
    "    \"\"\"Method takes three numbers as arguments: an initial principle,\n",
    "    an annual interest rate, and a number of years and prints out the earnings over this period \n",
    "    \"\"\"\n",
    "    total_amount = round(compound_interest(principle,interest_rate,duration),2)\n",
    "    print(\"Initial principle: $\"+str(principle))\n",
    "    print(\"Annual interest rate: %\"+str(interest_rate))\n",
    "    print(\"Interest earned in 5 years: $\"+ str(total_amount-principle))\n",
    "    print(\"Total value after 5 years: $\"+ str(total_amount))"
   ]
  },
  {
   "cell_type": "markdown",
   "metadata": {},
   "source": [
    "Define a function **`value_of_change()`** that takes in **named** arguments representing amounts of different US coins (`quarters`, `dimes`, `nickels`, and `pennies`)--each of the arguments should have a default value of `0`. The function should _return_ the total value in dollars of those coins. For example, 5 quarters, 4 dimes, 3, nickels, and 2 pennies have a value of `1.82` dollars."
   ]
  },
  {
   "cell_type": "code",
   "execution_count": 10,
   "metadata": {},
   "outputs": [],
   "source": [
    "#Method to calculate total value of change in dollars\n",
    "def value_of_change(quarters=0, dimes=0,nickels=0,pennies=0):\n",
    "    \"\"\"Takes in named arguments representing amounts of different US coins (quarters, dimes, nickels, and pennies)\n",
    "    and returns the total value in dollars of those coins\n",
    "    \"\"\"\n",
    "    value_quarters=0.25*quarters\n",
    "    value_dimes=0.10*dimes\n",
    "    value_nickels=0.05*nickels\n",
    "    value_pennies = 0.01*pennies\n",
    "    total=value_quarters+value_dimes+value_nickels+value_pennies\n",
    "    return round(total,2)"
   ]
  },
  {
   "cell_type": "markdown",
   "metadata": {},
   "source": [
    "Define a function **`consolidate_change`** that takes as arguments counts of different US coins (similar to the previous function) and prints out the _simplest_ number of bills and coins needed to make that amount.\n",
    "\n",
    "For example, when called with arguments of 10 quarters, 9 dimes, 8 nickels, and 7 pennies, the function should print:\n",
    "\n",
    "```\n",
    "Number of dollars: 3\n",
    "Number of quarters: 3\n",
    "Number of dimes: 1\n",
    "Number of nickels: 0\n",
    "Number of pennies: 2\n",
    "Total amount: $3.87\n",
    "```\n",
    "\n",
    "You _must_ use your previous `value_of_change()` method in this calculation. _Hint:_ think about converting the coins to a giant pile of pennies, and then determining how many (whole number) dollars you can divide them into. Then put those pennies aside, and determine how many (whole number) quarters you can make with the rest, etc."
   ]
  },
  {
   "cell_type": "code",
   "execution_count": 11,
   "metadata": {
    "scrolled": true
   },
   "outputs": [
    {
     "name": "stdout",
     "output_type": "stream",
     "text": [
      "Number of dollars: 3\n",
      "Number of quarters: 3\n",
      "Number of dimes: 1\n",
      "Number of nickles: 0\n",
      "Number of pennies: 2\n",
      "Total amount: 3.87\n"
     ]
    }
   ],
   "source": [
    "#Method to calculate the simplest number of bills and coins  \n",
    "def consolidate_change(quarters,dimes,nickels,pennies):\n",
    "    \"\"\"Takes as arguments counts of different US coins(quarters, dimes, nickels, and pennies)\n",
    "    and prints out the simplest number of bills and coins needed to make that amount.\n",
    "    \"\"\"\n",
    "    value = value_of_change(quarters,dimes,nickels,pennies)\n",
    "    simplified_dollars = int(value)\n",
    "    remaining_amt = value-simplified_dollars*1\n",
    "    simplified_quarters = int(remaining_amt/0.25)\n",
    "    remaining_amt = remaining_amt - simplified_quarters*0.25\n",
    "    simplified_dimes = int(remaining_amt/0.10)\n",
    "    remaining_amt = remaining_amt - simplified_dimes*0.10\n",
    "    simplified_nickels = int(remaining_amt/0.05)\n",
    "    remaining_amt = remaining_amt - simplified_nickels*0.05\n",
    "    simplified_pennies = int(remaining_amt/0.01)\n",
    "    print(\"Number of dollars: \"+str(simplified_dollars))\n",
    "    print(\"Number of quarters: \"+str(simplified_quarters))\n",
    "    print(\"Number of dimes: \"+str(simplified_dimes))\n",
    "    print(\"Number of nickles: \"+str(simplified_nickels))\n",
    "    print(\"Number of pennies: \"+str(simplified_pennies))\n",
    "    print(\"Total amount: \"+ str(value))\n",
    "consolidate_change(10,9,8,7)\n",
    "    "
   ]
  },
  {
   "cell_type": "markdown",
   "metadata": {},
   "source": [
    "## Part 3. Time"
   ]
  },
  {
   "cell_type": "markdown",
   "metadata": {},
   "source": [
    "Use the [date()](https://docs.python.org/3/library/datetime.html#datetime.date) function from the `datetime` module to create a variable **`summer_break`** that represents the first day of Summer break (June 9, 2018). Note that this function will return a value of type `date`."
   ]
  },
  {
   "cell_type": "code",
   "execution_count": 12,
   "metadata": {},
   "outputs": [],
   "source": [
    "import datetime\n",
    "#initializing first day of Summer break to June 9, 2019\n",
    "summer_break = datetime.date(2019,6,9)\n"
   ]
  },
  {
   "cell_type": "markdown",
   "metadata": {},
   "source": [
    "Create a variable **`days_to_break`** that is how many days from the _current date_ (today--look for a method of the [date class](https://docs.python.org/3/library/datetime.html#date-objects)) to Summer break. _Hint:_ variables of the `date` type support the subtraction operator! Print the variable after you create it; it's fine if the printed result includes a `00:00:00` timestamp."
   ]
  },
  {
   "cell_type": "code",
   "execution_count": 13,
   "metadata": {},
   "outputs": [
    {
     "name": "stdout",
     "output_type": "stream",
     "text": [
      "53 days, 0:00:00\n"
     ]
    }
   ],
   "source": [
    "days_to_break = summer_break - datetime.date.today()\n",
    "print(days_to_break)\n"
   ]
  },
  {
   "cell_type": "markdown",
   "metadata": {},
   "source": [
    "Define a function **`can_vote_us()`** that takes as an argument a birth date (as a `date` value). This function should _return_ the `date` in which a person born on that day can legally vote in the US (i.e., when they turn 18 years old).\n",
    "\n",
    "In order to calculate this date, you should use the [dateutil.relativedelta](https://dateutil.readthedocs.io/en/stable/relativedelta.html) library, which is included with Anaconda. You will need to import the `relativedelta` function from this library, which will let you specify a \"time change\" in terms of years that can then be added to a date. See [the examples](https://dateutil.readthedocs.io/en/stable/examples.html#relativedelta-examples) for details.\n",
    "\n",
    "Demonstrate your function works by printing out when someone born _today_ will be able to legally vote."
   ]
  },
  {
   "cell_type": "code",
   "execution_count": 14,
   "metadata": {},
   "outputs": [
    {
     "name": "stdout",
     "output_type": "stream",
     "text": [
      "2037-04-17\n"
     ]
    }
   ],
   "source": [
    "from dateutil.relativedelta import *\n",
    "#Method to find when a person can vote in the US\n",
    "def can_vote_us(birth_date):\n",
    "    \"\"\"Takes as an argument a birth date (as a date value) and returns the date\n",
    "    in which a person born on that day can legally vote in the US (i.e., when they turn 18 years old).\n",
    "    \"\"\"\n",
    "    date_turns_18 = birth_date+ relativedelta(years=+18)\n",
    "    print(date_turns_18)\n",
    "    \n",
    "can_vote_us(datetime.date.today())   "
   ]
  },
  {
   "cell_type": "markdown",
   "metadata": {},
   "source": [
    "Define a function **`make_birthday_intro()`** that takes in two arguments: a name (`string`), and a birth date (`date`). This function should _return_ a string of the format `\"Hello, my name is {NAME} and I'm {AGE} years old. In {N} days I'll be {NEW_AGE}\"` (replacing `{NAME}`, `{AGE}`, `{N}`, and `{NEW_AGE}` with appropriate values).\n",
    "\n",
    "- You should utilize your **`make_introduction()`** function from Part 1! You may need to calculate a variable to pass into that function call.\n",
    "- _Hint_: use the `relativedelta()` function to calculate the person's current age, as well as when they will turn 1 year older. You can get the number of days or years from a `relativedelta` value (e.g., `my_time_difference`) by accessing the `.days` or `.years` properties (e.g., `my_time_difference.years`)."
   ]
  },
  {
   "cell_type": "code",
   "execution_count": 15,
   "metadata": {},
   "outputs": [],
   "source": [
    "import datetime\n",
    "import dateutil\n",
    "#Function to print birthday introduction\n",
    "def make_birthday_intro(name, birth_date):\n",
    "    \"\"\"Takes in two arguments: a name (string), and a birth date (date)and returns a string of the format \n",
    "    \"Hello, my name is {NAME} and I'm {AGE} years old. In {N} days I'll be {NEW_AGE}\" (replacing {NAME}, {AGE}, {N}, and {NEW_AGE} with appropriate values).\n",
    "    \"\"\"\n",
    "    today = datetime.date.today()\n",
    "    #calculating age of the person\n",
    "    age = dateutil.relativedelta.relativedelta(today,birth_date)\n",
    "    birth_this_year = datetime.date(today.year,birth_date.month,birth_date.day)\n",
    "    #date when they turn year older\n",
    "    year_older = birth_this_year+relativedelta(years=+1)\n",
    "    days_until_birthday = year_older - today\n",
    "    age_after_next_birthday = relativedelta(year_older,birth_date)\n",
    "    intro = make_introduction(my_name,age.years)\n",
    "    return intro+\" In \"+str(days_until_birthday.days)+\" days I'll be \"+str(age_after_next_birthday.years)+\".\"\n",
    "     "
   ]
  },
  {
   "cell_type": "markdown",
   "metadata": {},
   "source": [
    "Create a variable **`my_bday_intro`** by calling your `make_birthday_intro()` function and passing in your name (already a variable!) and your birthdate. Print the variable after you create it. "
   ]
  },
  {
   "cell_type": "code",
   "execution_count": 16,
   "metadata": {},
   "outputs": [
    {
     "name": "stdout",
     "output_type": "stream",
     "text": [
      "Hello, my name is Sneha Nair and I'm 24 years old. In 320 days I'll be 25.\n"
     ]
    }
   ],
   "source": [
    "my_bday_intro = make_birthday_intro(\"Sneha\",datetime.date(1995,3,2))\n",
    "print(my_bday_intro)"
   ]
  }
 ],
 "metadata": {
  "kernelspec": {
   "display_name": "Python 3",
   "language": "python",
   "name": "python3"
  },
  "language_info": {
   "codemirror_mode": {
    "name": "ipython",
    "version": 3
   },
   "file_extension": ".py",
   "mimetype": "text/x-python",
   "name": "python",
   "nbconvert_exporter": "python",
   "pygments_lexer": "ipython3",
   "version": "3.7.1"
  }
 },
 "nbformat": 4,
 "nbformat_minor": 2
}
